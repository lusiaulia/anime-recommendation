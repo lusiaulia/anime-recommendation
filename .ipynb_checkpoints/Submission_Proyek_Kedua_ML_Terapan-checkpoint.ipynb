{
 "cells": [
  {
   "cell_type": "markdown",
   "metadata": {},
   "source": [
    "# Anime Recommendation System\n",
    "- **Sumber Data:** https://www.kaggle.com/datasets/CooperUnion/anime-recommendations-database"
   ]
  },
  {
   "cell_type": "markdown",
   "metadata": {},
   "source": [
    "##  Load Data"
   ]
  },
  {
   "cell_type": "code",
   "execution_count": 41,
   "metadata": {
    "scrolled": true
   },
   "outputs": [],
   "source": [
    "#mengimpor library yang diperlukan\n",
    "import numpy as np\n",
    "import matplotlib.pyplot as plt\n",
    "import pandas as pd\n",
    "%matplotlib inline\n",
    "import seaborn as sns\n",
    "from sklearn.metrics.pairwise import cosine_similarity\n",
    "from sklearn.feature_extraction.text import TfidfVectorizer\n",
    "import tensorflow as tf\n",
    "from tensorflow.keras.layers import Input, Dense\n",
    "from tensorflow.keras.models import Model\n",
    "import operator"
   ]
  },
  {
   "cell_type": "code",
   "execution_count": 2,
   "metadata": {},
   "outputs": [
    {
     "name": "stderr",
     "output_type": "stream",
     "text": [
      "fatal: destination path 'anime-recommendation' already exists and is not an empty directory.\n"
     ]
    },
    {
     "data": {
      "text/html": [
       "<div>\n",
       "<style scoped>\n",
       "    .dataframe tbody tr th:only-of-type {\n",
       "        vertical-align: middle;\n",
       "    }\n",
       "\n",
       "    .dataframe tbody tr th {\n",
       "        vertical-align: top;\n",
       "    }\n",
       "\n",
       "    .dataframe thead th {\n",
       "        text-align: right;\n",
       "    }\n",
       "</style>\n",
       "<table border=\"1\" class=\"dataframe\">\n",
       "  <thead>\n",
       "    <tr style=\"text-align: right;\">\n",
       "      <th></th>\n",
       "      <th>anime_id</th>\n",
       "      <th>name</th>\n",
       "      <th>genre</th>\n",
       "      <th>type</th>\n",
       "      <th>episodes</th>\n",
       "      <th>rating</th>\n",
       "      <th>members</th>\n",
       "    </tr>\n",
       "  </thead>\n",
       "  <tbody>\n",
       "    <tr>\n",
       "      <th>0</th>\n",
       "      <td>32281</td>\n",
       "      <td>Kimi no Na wa.</td>\n",
       "      <td>Drama, Romance, School, Supernatural</td>\n",
       "      <td>Movie</td>\n",
       "      <td>1</td>\n",
       "      <td>9.37</td>\n",
       "      <td>200630</td>\n",
       "    </tr>\n",
       "    <tr>\n",
       "      <th>1</th>\n",
       "      <td>5114</td>\n",
       "      <td>Fullmetal Alchemist: Brotherhood</td>\n",
       "      <td>Action, Adventure, Drama, Fantasy, Magic, Mili...</td>\n",
       "      <td>TV</td>\n",
       "      <td>64</td>\n",
       "      <td>9.26</td>\n",
       "      <td>793665</td>\n",
       "    </tr>\n",
       "    <tr>\n",
       "      <th>2</th>\n",
       "      <td>28977</td>\n",
       "      <td>Gintama°</td>\n",
       "      <td>Action, Comedy, Historical, Parody, Samurai, S...</td>\n",
       "      <td>TV</td>\n",
       "      <td>51</td>\n",
       "      <td>9.25</td>\n",
       "      <td>114262</td>\n",
       "    </tr>\n",
       "    <tr>\n",
       "      <th>3</th>\n",
       "      <td>9253</td>\n",
       "      <td>Steins;Gate</td>\n",
       "      <td>Sci-Fi, Thriller</td>\n",
       "      <td>TV</td>\n",
       "      <td>24</td>\n",
       "      <td>9.17</td>\n",
       "      <td>673572</td>\n",
       "    </tr>\n",
       "    <tr>\n",
       "      <th>4</th>\n",
       "      <td>9969</td>\n",
       "      <td>Gintama&amp;#039;</td>\n",
       "      <td>Action, Comedy, Historical, Parody, Samurai, S...</td>\n",
       "      <td>TV</td>\n",
       "      <td>51</td>\n",
       "      <td>9.16</td>\n",
       "      <td>151266</td>\n",
       "    </tr>\n",
       "  </tbody>\n",
       "</table>\n",
       "</div>"
      ],
      "text/plain": [
       "   anime_id                              name  \\\n",
       "0     32281                    Kimi no Na wa.   \n",
       "1      5114  Fullmetal Alchemist: Brotherhood   \n",
       "2     28977                          Gintama°   \n",
       "3      9253                       Steins;Gate   \n",
       "4      9969                     Gintama&#039;   \n",
       "\n",
       "                                               genre   type episodes  rating  \\\n",
       "0               Drama, Romance, School, Supernatural  Movie        1    9.37   \n",
       "1  Action, Adventure, Drama, Fantasy, Magic, Mili...     TV       64    9.26   \n",
       "2  Action, Comedy, Historical, Parody, Samurai, S...     TV       51    9.25   \n",
       "3                                   Sci-Fi, Thriller     TV       24    9.17   \n",
       "4  Action, Comedy, Historical, Parody, Samurai, S...     TV       51    9.16   \n",
       "\n",
       "   members  \n",
       "0   200630  \n",
       "1   793665  \n",
       "2   114262  \n",
       "3   673572  \n",
       "4   151266  "
      ]
     },
     "execution_count": 2,
     "metadata": {},
     "output_type": "execute_result"
    }
   ],
   "source": [
    "# Clone dataset dari github\n",
    "!git clone https://github.com/lusiaulia/anime-recommendation.git\n",
    "# mendefinisikan dataframe\n",
    "anime_df = pd.read_csv(\"./anime.csv\")\n",
    "rate_df = pd.read_csv(\"./rating.csv\")\n",
    "anime_df.head()"
   ]
  },
  {
   "cell_type": "code",
   "execution_count": 3,
   "metadata": {},
   "outputs": [
    {
     "data": {
      "text/html": [
       "<div>\n",
       "<style scoped>\n",
       "    .dataframe tbody tr th:only-of-type {\n",
       "        vertical-align: middle;\n",
       "    }\n",
       "\n",
       "    .dataframe tbody tr th {\n",
       "        vertical-align: top;\n",
       "    }\n",
       "\n",
       "    .dataframe thead th {\n",
       "        text-align: right;\n",
       "    }\n",
       "</style>\n",
       "<table border=\"1\" class=\"dataframe\">\n",
       "  <thead>\n",
       "    <tr style=\"text-align: right;\">\n",
       "      <th></th>\n",
       "      <th>user_id</th>\n",
       "      <th>anime_id</th>\n",
       "      <th>rating</th>\n",
       "    </tr>\n",
       "  </thead>\n",
       "  <tbody>\n",
       "    <tr>\n",
       "      <th>0</th>\n",
       "      <td>1</td>\n",
       "      <td>20</td>\n",
       "      <td>-1</td>\n",
       "    </tr>\n",
       "    <tr>\n",
       "      <th>1</th>\n",
       "      <td>1</td>\n",
       "      <td>24</td>\n",
       "      <td>-1</td>\n",
       "    </tr>\n",
       "    <tr>\n",
       "      <th>2</th>\n",
       "      <td>1</td>\n",
       "      <td>79</td>\n",
       "      <td>-1</td>\n",
       "    </tr>\n",
       "    <tr>\n",
       "      <th>3</th>\n",
       "      <td>1</td>\n",
       "      <td>226</td>\n",
       "      <td>-1</td>\n",
       "    </tr>\n",
       "    <tr>\n",
       "      <th>4</th>\n",
       "      <td>1</td>\n",
       "      <td>241</td>\n",
       "      <td>-1</td>\n",
       "    </tr>\n",
       "  </tbody>\n",
       "</table>\n",
       "</div>"
      ],
      "text/plain": [
       "   user_id  anime_id  rating\n",
       "0        1        20      -1\n",
       "1        1        24      -1\n",
       "2        1        79      -1\n",
       "3        1       226      -1\n",
       "4        1       241      -1"
      ]
     },
     "execution_count": 3,
     "metadata": {},
     "output_type": "execute_result"
    }
   ],
   "source": [
    "rate_df.head()"
   ]
  },
  {
   "cell_type": "markdown",
   "metadata": {},
   "source": [
    "## Exploratory Data Analysis"
   ]
  },
  {
   "cell_type": "markdown",
   "metadata": {},
   "source": [
    "Variabel-variabel dari anime dan rating dataset adalah sebagai berikut : \n",
    "\n",
    "1. Variabel anime.csv yang selanjutnya disebut anime_df\n",
    "<ul> <li>anime_id : id anime dari myanimelist.</li>\n",
    "    <li>name : judul anime</li>\n",
    "    <li>genre : genre anime</li>\n",
    "    <li>type : movie, TV, OVA, dll.</li>\n",
    "    <li>episodes : banyak episode (1 jika movie).</li>\n",
    "    <li>rating : rata-rata rating dari anime (skala 1-10)</li>\n",
    "    <li>members : jumlah member dalam grup anime</li>\n",
    "</ul>\n",
    "\n",
    "2. Variabel rating.csv yang selanjutnya disebut rate_df\n",
    "<ul> <li>user_id : id user</li>\n",
    "    <li>anime_id : anime yang dinilai/rate oleh user</li>\n",
    "    <li>rating : rating skala 1-10 yang diberi oleh user (rating -1 jika sudah menonton tapi belum memberi rating)</li>\n",
    "</ul>"
   ]
  },
  {
   "cell_type": "code",
   "execution_count": 4,
   "metadata": {},
   "outputs": [
    {
     "name": "stdout",
     "output_type": "stream",
     "text": [
      "<class 'pandas.core.frame.DataFrame'>\n",
      "RangeIndex: 12294 entries, 0 to 12293\n",
      "Data columns (total 7 columns):\n",
      " #   Column    Non-Null Count  Dtype  \n",
      "---  ------    --------------  -----  \n",
      " 0   anime_id  12294 non-null  int64  \n",
      " 1   name      12294 non-null  object \n",
      " 2   genre     12232 non-null  object \n",
      " 3   type      12269 non-null  object \n",
      " 4   episodes  12294 non-null  object \n",
      " 5   rating    12064 non-null  float64\n",
      " 6   members   12294 non-null  int64  \n",
      "dtypes: float64(1), int64(2), object(4)\n",
      "memory usage: 672.5+ KB\n"
     ]
    }
   ],
   "source": [
    "#melihat informasi jumlah dan jenis data \n",
    "anime_df.info()"
   ]
  },
  {
   "cell_type": "code",
   "execution_count": 5,
   "metadata": {},
   "outputs": [
    {
     "name": "stdout",
     "output_type": "stream",
     "text": [
      "<class 'pandas.core.frame.DataFrame'>\n",
      "RangeIndex: 7813737 entries, 0 to 7813736\n",
      "Data columns (total 3 columns):\n",
      " #   Column    Dtype\n",
      "---  ------    -----\n",
      " 0   user_id   int64\n",
      " 1   anime_id  int64\n",
      " 2   rating    int64\n",
      "dtypes: int64(3)\n",
      "memory usage: 178.8 MB\n"
     ]
    }
   ],
   "source": [
    "rate_df.info()"
   ]
  },
  {
   "cell_type": "markdown",
   "metadata": {},
   "source": [
    "Berdasarkan output di atas, dapat diketahui bahwa rate_df memiliki 7813737 data entri, sementara anime_df memiliki 12294 entri. "
   ]
  },
  {
   "cell_type": "code",
   "execution_count": 6,
   "metadata": {},
   "outputs": [
    {
     "data": {
      "text/html": [
       "<div>\n",
       "<style scoped>\n",
       "    .dataframe tbody tr th:only-of-type {\n",
       "        vertical-align: middle;\n",
       "    }\n",
       "\n",
       "    .dataframe tbody tr th {\n",
       "        vertical-align: top;\n",
       "    }\n",
       "\n",
       "    .dataframe thead th {\n",
       "        text-align: right;\n",
       "    }\n",
       "</style>\n",
       "<table border=\"1\" class=\"dataframe\">\n",
       "  <thead>\n",
       "    <tr style=\"text-align: right;\">\n",
       "      <th></th>\n",
       "      <th>anime_id</th>\n",
       "      <th>rating</th>\n",
       "      <th>members</th>\n",
       "    </tr>\n",
       "  </thead>\n",
       "  <tbody>\n",
       "    <tr>\n",
       "      <th>count</th>\n",
       "      <td>12294.000000</td>\n",
       "      <td>12064.000000</td>\n",
       "      <td>1.229400e+04</td>\n",
       "    </tr>\n",
       "    <tr>\n",
       "      <th>mean</th>\n",
       "      <td>14058.221653</td>\n",
       "      <td>6.473902</td>\n",
       "      <td>1.807134e+04</td>\n",
       "    </tr>\n",
       "    <tr>\n",
       "      <th>std</th>\n",
       "      <td>11455.294701</td>\n",
       "      <td>1.026746</td>\n",
       "      <td>5.482068e+04</td>\n",
       "    </tr>\n",
       "    <tr>\n",
       "      <th>min</th>\n",
       "      <td>1.000000</td>\n",
       "      <td>1.670000</td>\n",
       "      <td>5.000000e+00</td>\n",
       "    </tr>\n",
       "    <tr>\n",
       "      <th>25%</th>\n",
       "      <td>3484.250000</td>\n",
       "      <td>5.880000</td>\n",
       "      <td>2.250000e+02</td>\n",
       "    </tr>\n",
       "    <tr>\n",
       "      <th>50%</th>\n",
       "      <td>10260.500000</td>\n",
       "      <td>6.570000</td>\n",
       "      <td>1.550000e+03</td>\n",
       "    </tr>\n",
       "    <tr>\n",
       "      <th>75%</th>\n",
       "      <td>24794.500000</td>\n",
       "      <td>7.180000</td>\n",
       "      <td>9.437000e+03</td>\n",
       "    </tr>\n",
       "    <tr>\n",
       "      <th>max</th>\n",
       "      <td>34527.000000</td>\n",
       "      <td>10.000000</td>\n",
       "      <td>1.013917e+06</td>\n",
       "    </tr>\n",
       "  </tbody>\n",
       "</table>\n",
       "</div>"
      ],
      "text/plain": [
       "           anime_id        rating       members\n",
       "count  12294.000000  12064.000000  1.229400e+04\n",
       "mean   14058.221653      6.473902  1.807134e+04\n",
       "std    11455.294701      1.026746  5.482068e+04\n",
       "min        1.000000      1.670000  5.000000e+00\n",
       "25%     3484.250000      5.880000  2.250000e+02\n",
       "50%    10260.500000      6.570000  1.550000e+03\n",
       "75%    24794.500000      7.180000  9.437000e+03\n",
       "max    34527.000000     10.000000  1.013917e+06"
      ]
     },
     "execution_count": 6,
     "metadata": {},
     "output_type": "execute_result"
    }
   ],
   "source": [
    "#melihat statistik deskriptif dari data\n",
    "anime_df.describe()"
   ]
  },
  {
   "cell_type": "code",
   "execution_count": 7,
   "metadata": {},
   "outputs": [
    {
     "data": {
      "text/html": [
       "<div>\n",
       "<style scoped>\n",
       "    .dataframe tbody tr th:only-of-type {\n",
       "        vertical-align: middle;\n",
       "    }\n",
       "\n",
       "    .dataframe tbody tr th {\n",
       "        vertical-align: top;\n",
       "    }\n",
       "\n",
       "    .dataframe thead th {\n",
       "        text-align: right;\n",
       "    }\n",
       "</style>\n",
       "<table border=\"1\" class=\"dataframe\">\n",
       "  <thead>\n",
       "    <tr style=\"text-align: right;\">\n",
       "      <th></th>\n",
       "      <th>user_id</th>\n",
       "      <th>anime_id</th>\n",
       "      <th>rating</th>\n",
       "    </tr>\n",
       "  </thead>\n",
       "  <tbody>\n",
       "    <tr>\n",
       "      <th>count</th>\n",
       "      <td>7.813737e+06</td>\n",
       "      <td>7.813737e+06</td>\n",
       "      <td>7.813737e+06</td>\n",
       "    </tr>\n",
       "    <tr>\n",
       "      <th>mean</th>\n",
       "      <td>3.672796e+04</td>\n",
       "      <td>8.909072e+03</td>\n",
       "      <td>6.144030e+00</td>\n",
       "    </tr>\n",
       "    <tr>\n",
       "      <th>std</th>\n",
       "      <td>2.099795e+04</td>\n",
       "      <td>8.883950e+03</td>\n",
       "      <td>3.727800e+00</td>\n",
       "    </tr>\n",
       "    <tr>\n",
       "      <th>min</th>\n",
       "      <td>1.000000e+00</td>\n",
       "      <td>1.000000e+00</td>\n",
       "      <td>-1.000000e+00</td>\n",
       "    </tr>\n",
       "    <tr>\n",
       "      <th>25%</th>\n",
       "      <td>1.897400e+04</td>\n",
       "      <td>1.240000e+03</td>\n",
       "      <td>6.000000e+00</td>\n",
       "    </tr>\n",
       "    <tr>\n",
       "      <th>50%</th>\n",
       "      <td>3.679100e+04</td>\n",
       "      <td>6.213000e+03</td>\n",
       "      <td>7.000000e+00</td>\n",
       "    </tr>\n",
       "    <tr>\n",
       "      <th>75%</th>\n",
       "      <td>5.475700e+04</td>\n",
       "      <td>1.409300e+04</td>\n",
       "      <td>9.000000e+00</td>\n",
       "    </tr>\n",
       "    <tr>\n",
       "      <th>max</th>\n",
       "      <td>7.351600e+04</td>\n",
       "      <td>3.451900e+04</td>\n",
       "      <td>1.000000e+01</td>\n",
       "    </tr>\n",
       "  </tbody>\n",
       "</table>\n",
       "</div>"
      ],
      "text/plain": [
       "            user_id      anime_id        rating\n",
       "count  7.813737e+06  7.813737e+06  7.813737e+06\n",
       "mean   3.672796e+04  8.909072e+03  6.144030e+00\n",
       "std    2.099795e+04  8.883950e+03  3.727800e+00\n",
       "min    1.000000e+00  1.000000e+00 -1.000000e+00\n",
       "25%    1.897400e+04  1.240000e+03  6.000000e+00\n",
       "50%    3.679100e+04  6.213000e+03  7.000000e+00\n",
       "75%    5.475700e+04  1.409300e+04  9.000000e+00\n",
       "max    7.351600e+04  3.451900e+04  1.000000e+01"
      ]
     },
     "execution_count": 7,
     "metadata": {},
     "output_type": "execute_result"
    }
   ],
   "source": [
    "rate_df.describe()"
   ]
  },
  {
   "cell_type": "code",
   "execution_count": 8,
   "metadata": {},
   "outputs": [
    {
     "name": "stdout",
     "output_type": "stream",
     "text": [
      "Jumlah animeID:  12294\n",
      "Jumlah animeID:  11200\n"
     ]
    }
   ],
   "source": [
    "print('Jumlah animeID: ', len(anime_df.anime_id.unique()))\n",
    "print('Jumlah animeID: ', len(rate_df.anime_id.unique()))"
   ]
  },
  {
   "cell_type": "markdown",
   "metadata": {},
   "source": [
    "Dari data, diketahui bahwa rating berada di rentang 1-10, jumlah list anime ID pada anime_df ada 12294 list dan pada rate_df terdapat 11200 list anime ID. Selanjutnya akan dicari tahu apakah terdapat data kosong, duplikat pada dataset. Juga upaya untuk lebih merapihkan data sebelum dimodelkan. "
   ]
  },
  {
   "cell_type": "markdown",
   "metadata": {},
   "source": [
    "## Data Preprocessing & Data Prep"
   ]
  },
  {
   "cell_type": "markdown",
   "metadata": {},
   "source": [
    "Sudah disebutkan sebelumnya bahwa salah satu variabel pada rate_df yaitu rating terdapat 1 nilai yaitu '-1' yang berati user belum memberi penilaian dan sudah menonton. Agar tidak mempengaruhi hasil prediksi rating maka akan dihapus saja."
   ]
  },
  {
   "cell_type": "code",
   "execution_count": 9,
   "metadata": {
    "scrolled": true
   },
   "outputs": [
    {
     "data": {
      "text/html": [
       "<div>\n",
       "<style scoped>\n",
       "    .dataframe tbody tr th:only-of-type {\n",
       "        vertical-align: middle;\n",
       "    }\n",
       "\n",
       "    .dataframe tbody tr th {\n",
       "        vertical-align: top;\n",
       "    }\n",
       "\n",
       "    .dataframe thead th {\n",
       "        text-align: right;\n",
       "    }\n",
       "</style>\n",
       "<table border=\"1\" class=\"dataframe\">\n",
       "  <thead>\n",
       "    <tr style=\"text-align: right;\">\n",
       "      <th></th>\n",
       "      <th>user_id</th>\n",
       "      <th>anime_id</th>\n",
       "      <th>rating</th>\n",
       "    </tr>\n",
       "  </thead>\n",
       "  <tbody>\n",
       "    <tr>\n",
       "      <th>47</th>\n",
       "      <td>1</td>\n",
       "      <td>8074</td>\n",
       "      <td>10</td>\n",
       "    </tr>\n",
       "    <tr>\n",
       "      <th>81</th>\n",
       "      <td>1</td>\n",
       "      <td>11617</td>\n",
       "      <td>10</td>\n",
       "    </tr>\n",
       "    <tr>\n",
       "      <th>83</th>\n",
       "      <td>1</td>\n",
       "      <td>11757</td>\n",
       "      <td>10</td>\n",
       "    </tr>\n",
       "    <tr>\n",
       "      <th>101</th>\n",
       "      <td>1</td>\n",
       "      <td>15451</td>\n",
       "      <td>10</td>\n",
       "    </tr>\n",
       "    <tr>\n",
       "      <th>153</th>\n",
       "      <td>2</td>\n",
       "      <td>11771</td>\n",
       "      <td>10</td>\n",
       "    </tr>\n",
       "    <tr>\n",
       "      <th>...</th>\n",
       "      <td>...</td>\n",
       "      <td>...</td>\n",
       "      <td>...</td>\n",
       "    </tr>\n",
       "    <tr>\n",
       "      <th>7813732</th>\n",
       "      <td>73515</td>\n",
       "      <td>16512</td>\n",
       "      <td>7</td>\n",
       "    </tr>\n",
       "    <tr>\n",
       "      <th>7813733</th>\n",
       "      <td>73515</td>\n",
       "      <td>17187</td>\n",
       "      <td>9</td>\n",
       "    </tr>\n",
       "    <tr>\n",
       "      <th>7813734</th>\n",
       "      <td>73515</td>\n",
       "      <td>22145</td>\n",
       "      <td>10</td>\n",
       "    </tr>\n",
       "    <tr>\n",
       "      <th>7813735</th>\n",
       "      <td>73516</td>\n",
       "      <td>790</td>\n",
       "      <td>9</td>\n",
       "    </tr>\n",
       "    <tr>\n",
       "      <th>7813736</th>\n",
       "      <td>73516</td>\n",
       "      <td>8074</td>\n",
       "      <td>9</td>\n",
       "    </tr>\n",
       "  </tbody>\n",
       "</table>\n",
       "<p>6337241 rows × 3 columns</p>\n",
       "</div>"
      ],
      "text/plain": [
       "         user_id  anime_id  rating\n",
       "47             1      8074      10\n",
       "81             1     11617      10\n",
       "83             1     11757      10\n",
       "101            1     15451      10\n",
       "153            2     11771      10\n",
       "...          ...       ...     ...\n",
       "7813732    73515     16512       7\n",
       "7813733    73515     17187       9\n",
       "7813734    73515     22145      10\n",
       "7813735    73516       790       9\n",
       "7813736    73516      8074       9\n",
       "\n",
       "[6337241 rows x 3 columns]"
      ]
     },
     "execution_count": 9,
     "metadata": {},
     "output_type": "execute_result"
    }
   ],
   "source": [
    "rate_df = rate_df[rate_df['rating'] != -1]\n",
    "rate_df"
   ]
  },
  {
   "cell_type": "code",
   "execution_count": 10,
   "metadata": {},
   "outputs": [
    {
     "name": "stdout",
     "output_type": "stream",
     "text": [
      "Jumlah animeID:  9927\n"
     ]
    }
   ],
   "source": [
    "print('Jumlah animeID: ', len(rate_df.anime_id.unique()))"
   ]
  },
  {
   "cell_type": "code",
   "execution_count": 11,
   "metadata": {},
   "outputs": [
    {
     "data": {
      "text/plain": [
       "6337241"
      ]
     },
     "execution_count": 11,
     "metadata": {},
     "output_type": "execute_result"
    }
   ],
   "source": [
    "len(rate_df)"
   ]
  },
  {
   "cell_type": "markdown",
   "metadata": {},
   "source": [
    "Saat ini dengan rate_df sejumlah 6337241 dan anime pada rate_df sejumlah 9927 anime yang berbeda (anime_id)"
   ]
  },
  {
   "cell_type": "markdown",
   "metadata": {},
   "source": [
    "### Mengatasi null value"
   ]
  },
  {
   "cell_type": "code",
   "execution_count": 12,
   "metadata": {},
   "outputs": [
    {
     "name": "stdout",
     "output_type": "stream",
     "text": [
      "genre: 0.50%\n",
      "type: 0.20%\n",
      "rating: 1.87%\n"
     ]
    }
   ],
   "source": [
    "#mengecek apakah ada data kosong\n",
    "for column, i in anime_df.isnull().sum().items():\n",
    "    if i > 0:\n",
    "        print(f\"{column}: {i/len(anime_df)*100:.2f}%\")"
   ]
  },
  {
   "cell_type": "code",
   "execution_count": 13,
   "metadata": {},
   "outputs": [],
   "source": [
    "#mengecek apakah ada data kosong\n",
    "for column, i in rate_df.isnull().sum().items():\n",
    "    if i > 0:\n",
    "        print(f\"{column}: {i/len(rate_df)*100:.2f}%\")"
   ]
  },
  {
   "cell_type": "markdown",
   "metadata": {},
   "source": [
    "Terdapat sejumlah kurang dari 2% data kosong dari anime_df, sehingga akan dilakukan penghapusan data kosong.Sementara pada rate_df tidak terdapat data kosong. "
   ]
  },
  {
   "cell_type": "code",
   "execution_count": 14,
   "metadata": {
    "scrolled": true
   },
   "outputs": [
    {
     "data": {
      "text/plain": [
       "anime_id    0\n",
       "name        0\n",
       "genre       0\n",
       "type        0\n",
       "episodes    0\n",
       "rating      0\n",
       "members     0\n",
       "dtype: int64"
      ]
     },
     "execution_count": 14,
     "metadata": {},
     "output_type": "execute_result"
    }
   ],
   "source": [
    "anime_df = anime_df.dropna(axis=0).reset_index(drop=True)\n",
    "anime_df.isnull().sum()"
   ]
  },
  {
   "cell_type": "code",
   "execution_count": 15,
   "metadata": {},
   "outputs": [
    {
     "name": "stdout",
     "output_type": "stream",
     "text": [
      "<class 'pandas.core.frame.DataFrame'>\n",
      "RangeIndex: 12017 entries, 0 to 12016\n",
      "Data columns (total 7 columns):\n",
      " #   Column    Non-Null Count  Dtype  \n",
      "---  ------    --------------  -----  \n",
      " 0   anime_id  12017 non-null  int64  \n",
      " 1   name      12017 non-null  object \n",
      " 2   genre     12017 non-null  object \n",
      " 3   type      12017 non-null  object \n",
      " 4   episodes  12017 non-null  object \n",
      " 5   rating    12017 non-null  float64\n",
      " 6   members   12017 non-null  int64  \n",
      "dtypes: float64(1), int64(2), object(4)\n",
      "memory usage: 657.3+ KB\n"
     ]
    }
   ],
   "source": [
    "anime_df.info()"
   ]
  },
  {
   "cell_type": "markdown",
   "metadata": {},
   "source": [
    "Setelah dilakukan penghapusan data kosong, saat ini terdapat sejumlah 12017 data entri pada anime_df. Selanjutnya mari dicek untuk data duplikat."
   ]
  },
  {
   "cell_type": "markdown",
   "metadata": {},
   "source": [
    "### Mengatasi data duplikat "
   ]
  },
  {
   "cell_type": "code",
   "execution_count": 16,
   "metadata": {},
   "outputs": [
    {
     "name": "stdout",
     "output_type": "stream",
     "text": [
      "0\n",
      "1\n"
     ]
    }
   ],
   "source": [
    "print(anime_df[anime_df.duplicated()].shape[0])\n",
    "print(rate_df[rate_df.duplicated()].shape[0])"
   ]
  },
  {
   "cell_type": "markdown",
   "metadata": {},
   "source": [
    "Tidak terdapat duplikat data pada data anime_df dan ada 1 data duplikat pada rate_df, akan dilakukan penghapusan data yang terduplikasi."
   ]
  },
  {
   "cell_type": "code",
   "execution_count": 17,
   "metadata": {},
   "outputs": [
    {
     "name": "stdout",
     "output_type": "stream",
     "text": [
      "0\n"
     ]
    }
   ],
   "source": [
    "rate_df.drop_duplicates(keep='first',inplace=True)\n",
    "print(rate_df[rate_df.duplicated()].shape[0])"
   ]
  },
  {
   "cell_type": "markdown",
   "metadata": {},
   "source": [
    "terlihat sudah tidak terdapat data duplikat. Kemudian dilakukan penghapusan duplikat juga pada pengguna dengan anime yang sama (asumsi 1 pengguna memberi 1 rating pada 1 anime yang ditonton)"
   ]
  },
  {
   "cell_type": "code",
   "execution_count": 18,
   "metadata": {},
   "outputs": [
    {
     "data": {
      "text/plain": [
       "6337234"
      ]
     },
     "execution_count": 18,
     "metadata": {},
     "output_type": "execute_result"
    }
   ],
   "source": [
    "rate_df = rate_df.drop_duplicates(['user_id', 'anime_id'])\n",
    "len(rate_df)"
   ]
  },
  {
   "cell_type": "markdown",
   "metadata": {},
   "source": [
    "Yang sebelumnya berjumlah 6337241 saat ini menjadi 6337234 data pada rate_df"
   ]
  },
  {
   "cell_type": "markdown",
   "metadata": {},
   "source": [
    "### Visualisasi Data "
   ]
  },
  {
   "cell_type": "code",
   "execution_count": 19,
   "metadata": {},
   "outputs": [
    {
     "data": {
      "image/png": "[encoded data removed]",
      "text/plain": [
       "<Figure size 1500x1000 with 1 Axes>"
      ]
     },
     "metadata": {},
     "output_type": "display_data"
    }
   ],
   "source": [
    "most_an = anime_df.sort_values([\"members\"],ascending=False)\n",
    "\n",
    "plt.subplots(figsize=(15,10))\n",
    "p = sns.barplot(x=most_an[\"members\"], y=most_an[\"name\"][:10])\n",
    "p.axes.set_title(\"\\nAnime dengan member komunitas terbanyak\\n\")\n",
    "plt.xlabel(\"Total Member\")\n",
    "plt.ylabel(\"\\nAnime Name\")\n",
    "for container in p.containers:\n",
    "    p.bar_label(container,label_type = \"center\", color = \"black\")\n",
    "\n",
    "sns.despine(left=True, bottom=True)\n",
    "plt.show()"
   ]
  },
  {
   "cell_type": "markdown",
   "metadata": {},
   "source": [
    "Terlihat jumlah dari member komunitas tiap anime berbeda-beda. Kemudian coba kita lihat jenis data pada kolom type pada anime_df"
   ]
  },
  {
   "cell_type": "code",
   "execution_count": 20,
   "metadata": {},
   "outputs": [
    {
     "data": {
      "text/plain": [
       "array(['Movie', 'TV', 'OVA', 'Special', 'Music', 'ONA'], dtype=object)"
      ]
     },
     "execution_count": 20,
     "metadata": {},
     "output_type": "execute_result"
    }
   ],
   "source": [
    "anime_df['type'].unique()"
   ]
  },
  {
   "cell_type": "markdown",
   "metadata": {},
   "source": [
    "Ternyata tipe anime terbanyak yaitu yang muncul di televisi (TV),OVA, Movie, Spesial, ONA, dan Music. Secara visual terlihat di bawah ini "
   ]
  },
  {
   "cell_type": "code",
   "execution_count": 21,
   "metadata": {},
   "outputs": [],
   "source": [
    "type_a = anime_df.sort_values([\"type\"],ascending=False)\n",
    "def pie_chart(df, col, title):\n",
    "    labels = [i for i in df[col].value_counts().index]\n",
    "    df[col].value_counts().plot.pie(figsize=(8,8),\n",
    "                                                 pctdistance=0.4,\n",
    "                                                 startangle=90,\n",
    "                                                 textprops={\"color\": \"white\"},\n",
    "                                                 wedgeprops={\"linewidth\":0})\n",
    "#                                    colors=['sandybrown','chocolate','brown','saddlebrown','black'])\n",
    "    plt.title(title, fontsize=20, pad=5)\n",
    "    box = plt.gca().get_position()\n",
    "    plt.gca().set_position([box.x0, box.y0, box.width * 0.8, box.height])\n",
    "    plt.legend(loc=\"center left\", bbox_to_anchor=(1, 0.5), prop={\"size\":12, \n",
    "                                                                 \"weight\":\"ultralight\"})\n",
    "    plt.show();"
   ]
  },
  {
   "cell_type": "code",
   "execution_count": 22,
   "metadata": {},
   "outputs": [
    {
     "data": {
      "image/png": "[encoded data removed]",
      "text/plain": [
       "<Figure size 800x800 with 1 Axes>"
      ]
     },
     "metadata": {},
     "output_type": "display_data"
    }
   ],
   "source": [
    "pie_chart(type_a, \"type\", \"Type anime terbanyak dari data\")"
   ]
  },
  {
   "cell_type": "code",
   "execution_count": 23,
   "metadata": {},
   "outputs": [
    {
     "name": "stdout",
     "output_type": "stream",
     "text": [
      "{'Movie': 18.798368977282184, 'TV': 30.523425147707417, 'OVA': 27.327952067903805, 'Special': 13.896979279354248, 'Music': 4.060913705583756, 'ONA': 5.392360822168595}\n"
     ]
    }
   ],
   "source": [
    "type_an = ['Movie', 'TV', 'OVA', 'Special', 'Music', 'ONA']\n",
    "counts={}\n",
    "for i in type_an:\n",
    "    counts[i] = (((anime_df['type'] == i).sum())/len(anime_df.type)*100)\n",
    "\n",
    "print(counts)"
   ]
  },
  {
   "cell_type": "markdown",
   "metadata": {},
   "source": [
    "Jumlah terbanyak yaitu anime yang tayang di TV (biasanya berepisode), disusul dengan OVA, Movie, Spesial, ONA dan Music. "
   ]
  },
  {
   "cell_type": "code",
   "execution_count": 24,
   "metadata": {},
   "outputs": [
    {
     "data": {
      "text/plain": [
       "<Axes: >"
      ]
     },
     "execution_count": 24,
     "metadata": {},
     "output_type": "execute_result"
    },
    {
     "data": {
      "image/png": "[encoded data removed]",
      "text/plain": [
       "<Figure size 640x480 with 1 Axes>"
      ]
     },
     "metadata": {},
     "output_type": "display_data"
    }
   ],
   "source": [
    "anime_df.rating.hist()"
   ]
  },
  {
   "cell_type": "markdown",
   "metadata": {},
   "source": [
    "Dari histogram terlihat bahwa sebaran rating berada di rentang 2-9 dan paling banyak di kisaran rating 7"
   ]
  },
  {
   "cell_type": "markdown",
   "metadata": {},
   "source": [
    "## Modeling & Evaluate Model\n",
    "### User-Based Collaborative Filtering¶\n",
    "#### TF-IDF Vectorizer\n"
   ]
  },
  {
   "cell_type": "code",
   "execution_count": 25,
   "metadata": {},
   "outputs": [
    {
     "data": {
      "text/plain": [
       "(12017, 11952)"
      ]
     },
     "execution_count": 25,
     "metadata": {},
     "output_type": "execute_result"
    }
   ],
   "source": [
    "# Inisialisasi TfidfVectorizer\n",
    "tf = TfidfVectorizer()\n",
    "tfidf_matrix = tf.fit_transform(anime_df['name']) \n",
    " \n",
    "# Melihat ukuran matrix tfidf\n",
    "tfidf_matrix.shape "
   ]
  },
  {
   "cell_type": "markdown",
   "metadata": {},
   "source": [
    "Perhatikanlah, matriks yang kita miliki berukuran (12017, 11951). \n",
    "\n",
    "Untuk menghasilkan vektor tf-idf dalam bentuk matriks, kita menggunakan fungsi todense(). Jalankan kode berikut."
   ]
  },
  {
   "cell_type": "code",
   "execution_count": 26,
   "metadata": {},
   "outputs": [
    {
     "data": {
      "text/plain": [
       "matrix([[0., 0., 0., ..., 0., 0., 0.],\n",
       "        [0., 0., 0., ..., 0., 0., 0.],\n",
       "        [0., 0., 0., ..., 0., 0., 0.],\n",
       "        ...,\n",
       "        [0., 0., 0., ..., 0., 0., 0.],\n",
       "        [0., 0., 0., ..., 0., 0., 0.],\n",
       "        [0., 0., 0., ..., 0., 0., 0.]])"
      ]
     },
     "execution_count": 26,
     "metadata": {},
     "output_type": "execute_result"
    }
   ],
   "source": [
    "# Mengubah vektor tf-idf dalam bentuk matriks dengan fungsi todense()\n",
    "tfidf_matrix.todense()"
   ]
  },
  {
   "cell_type": "code",
   "execution_count": 34,
   "metadata": {},
   "outputs": [
    {
     "data": {
      "text/html": [
       "<div>\n",
       "<style scoped>\n",
       "    .dataframe tbody tr th:only-of-type {\n",
       "        vertical-align: middle;\n",
       "    }\n",
       "\n",
       "    .dataframe tbody tr th {\n",
       "        vertical-align: top;\n",
       "    }\n",
       "\n",
       "    .dataframe thead th {\n",
       "        text-align: right;\n",
       "    }\n",
       "</style>\n",
       "<table border=\"1\" class=\"dataframe\">\n",
       "  <thead>\n",
       "    <tr style=\"text-align: right;\">\n",
       "      <th></th>\n",
       "      <th>rush</th>\n",
       "      <th>coin</th>\n",
       "      <th>irvine</th>\n",
       "      <th>minipato</th>\n",
       "      <th>keen</th>\n",
       "      <th>onji</th>\n",
       "      <th>kamasutra</th>\n",
       "      <th>blaster</th>\n",
       "      <th>excel</th>\n",
       "      <th>psychoarmor</th>\n",
       "      <th>...</th>\n",
       "      <th>fighting</th>\n",
       "      <th>sweetheart</th>\n",
       "      <th>exodus</th>\n",
       "      <th>kokka</th>\n",
       "      <th>hennako</th>\n",
       "      <th>akari</th>\n",
       "      <th>aniki</th>\n",
       "      <th>enbanseki</th>\n",
       "      <th>mou</th>\n",
       "      <th>ketsudan</th>\n",
       "    </tr>\n",
       "    <tr>\n",
       "      <th>name</th>\n",
       "      <th></th>\n",
       "      <th></th>\n",
       "      <th></th>\n",
       "      <th></th>\n",
       "      <th></th>\n",
       "      <th></th>\n",
       "      <th></th>\n",
       "      <th></th>\n",
       "      <th></th>\n",
       "      <th></th>\n",
       "      <th></th>\n",
       "      <th></th>\n",
       "      <th></th>\n",
       "      <th></th>\n",
       "      <th></th>\n",
       "      <th></th>\n",
       "      <th></th>\n",
       "      <th></th>\n",
       "      <th></th>\n",
       "      <th></th>\n",
       "      <th></th>\n",
       "    </tr>\n",
       "  </thead>\n",
       "  <tbody>\n",
       "    <tr>\n",
       "      <th>Virtual Star 2000</th>\n",
       "      <td>0.0</td>\n",
       "      <td>0.0</td>\n",
       "      <td>0.0</td>\n",
       "      <td>0.0</td>\n",
       "      <td>0.0</td>\n",
       "      <td>0.0</td>\n",
       "      <td>0.0</td>\n",
       "      <td>0.0</td>\n",
       "      <td>0.0</td>\n",
       "      <td>0.0</td>\n",
       "      <td>...</td>\n",
       "      <td>0.0</td>\n",
       "      <td>0.0</td>\n",
       "      <td>0.0</td>\n",
       "      <td>0.0</td>\n",
       "      <td>0.0</td>\n",
       "      <td>0.0</td>\n",
       "      <td>0.0</td>\n",
       "      <td>0.0</td>\n",
       "      <td>0.0</td>\n",
       "      <td>0.0</td>\n",
       "    </tr>\n",
       "    <tr>\n",
       "      <th>Dorami-chan: Hello Kyouryuu Kids!!</th>\n",
       "      <td>0.0</td>\n",
       "      <td>0.0</td>\n",
       "      <td>0.0</td>\n",
       "      <td>0.0</td>\n",
       "      <td>0.0</td>\n",
       "      <td>0.0</td>\n",
       "      <td>0.0</td>\n",
       "      <td>0.0</td>\n",
       "      <td>0.0</td>\n",
       "      <td>0.0</td>\n",
       "      <td>...</td>\n",
       "      <td>0.0</td>\n",
       "      <td>0.0</td>\n",
       "      <td>0.0</td>\n",
       "      <td>0.0</td>\n",
       "      <td>0.0</td>\n",
       "      <td>0.0</td>\n",
       "      <td>0.0</td>\n",
       "      <td>0.0</td>\n",
       "      <td>0.0</td>\n",
       "      <td>0.0</td>\n",
       "    </tr>\n",
       "    <tr>\n",
       "      <th>Shin Calimero</th>\n",
       "      <td>0.0</td>\n",
       "      <td>0.0</td>\n",
       "      <td>0.0</td>\n",
       "      <td>0.0</td>\n",
       "      <td>0.0</td>\n",
       "      <td>0.0</td>\n",
       "      <td>0.0</td>\n",
       "      <td>0.0</td>\n",
       "      <td>0.0</td>\n",
       "      <td>0.0</td>\n",
       "      <td>...</td>\n",
       "      <td>0.0</td>\n",
       "      <td>0.0</td>\n",
       "      <td>0.0</td>\n",
       "      <td>0.0</td>\n",
       "      <td>0.0</td>\n",
       "      <td>0.0</td>\n",
       "      <td>0.0</td>\n",
       "      <td>0.0</td>\n",
       "      <td>0.0</td>\n",
       "      <td>0.0</td>\n",
       "    </tr>\n",
       "    <tr>\n",
       "      <th>Mori no Ongakudan</th>\n",
       "      <td>0.0</td>\n",
       "      <td>0.0</td>\n",
       "      <td>0.0</td>\n",
       "      <td>0.0</td>\n",
       "      <td>0.0</td>\n",
       "      <td>0.0</td>\n",
       "      <td>0.0</td>\n",
       "      <td>0.0</td>\n",
       "      <td>0.0</td>\n",
       "      <td>0.0</td>\n",
       "      <td>...</td>\n",
       "      <td>0.0</td>\n",
       "      <td>0.0</td>\n",
       "      <td>0.0</td>\n",
       "      <td>0.0</td>\n",
       "      <td>0.0</td>\n",
       "      <td>0.0</td>\n",
       "      <td>0.0</td>\n",
       "      <td>0.0</td>\n",
       "      <td>0.0</td>\n",
       "      <td>0.0</td>\n",
       "    </tr>\n",
       "    <tr>\n",
       "      <th>ef: A Tale of Memories. - Recollections</th>\n",
       "      <td>0.0</td>\n",
       "      <td>0.0</td>\n",
       "      <td>0.0</td>\n",
       "      <td>0.0</td>\n",
       "      <td>0.0</td>\n",
       "      <td>0.0</td>\n",
       "      <td>0.0</td>\n",
       "      <td>0.0</td>\n",
       "      <td>0.0</td>\n",
       "      <td>0.0</td>\n",
       "      <td>...</td>\n",
       "      <td>0.0</td>\n",
       "      <td>0.0</td>\n",
       "      <td>0.0</td>\n",
       "      <td>0.0</td>\n",
       "      <td>0.0</td>\n",
       "      <td>0.0</td>\n",
       "      <td>0.0</td>\n",
       "      <td>0.0</td>\n",
       "      <td>0.0</td>\n",
       "      <td>0.0</td>\n",
       "    </tr>\n",
       "    <tr>\n",
       "      <th>Change!! Getter Robo: Sekai Saigo no Hi</th>\n",
       "      <td>0.0</td>\n",
       "      <td>0.0</td>\n",
       "      <td>0.0</td>\n",
       "      <td>0.0</td>\n",
       "      <td>0.0</td>\n",
       "      <td>0.0</td>\n",
       "      <td>0.0</td>\n",
       "      <td>0.0</td>\n",
       "      <td>0.0</td>\n",
       "      <td>0.0</td>\n",
       "      <td>...</td>\n",
       "      <td>0.0</td>\n",
       "      <td>0.0</td>\n",
       "      <td>0.0</td>\n",
       "      <td>0.0</td>\n",
       "      <td>0.0</td>\n",
       "      <td>0.0</td>\n",
       "      <td>0.0</td>\n",
       "      <td>0.0</td>\n",
       "      <td>0.0</td>\n",
       "      <td>0.0</td>\n",
       "    </tr>\n",
       "    <tr>\n",
       "      <th>Tentoumushi no Otomurai</th>\n",
       "      <td>0.0</td>\n",
       "      <td>0.0</td>\n",
       "      <td>0.0</td>\n",
       "      <td>0.0</td>\n",
       "      <td>0.0</td>\n",
       "      <td>0.0</td>\n",
       "      <td>0.0</td>\n",
       "      <td>0.0</td>\n",
       "      <td>0.0</td>\n",
       "      <td>0.0</td>\n",
       "      <td>...</td>\n",
       "      <td>0.0</td>\n",
       "      <td>0.0</td>\n",
       "      <td>0.0</td>\n",
       "      <td>0.0</td>\n",
       "      <td>0.0</td>\n",
       "      <td>0.0</td>\n",
       "      <td>0.0</td>\n",
       "      <td>0.0</td>\n",
       "      <td>0.0</td>\n",
       "      <td>0.0</td>\n",
       "    </tr>\n",
       "    <tr>\n",
       "      <th>Kiki to Lala no Hakuchouza no Ohimesama</th>\n",
       "      <td>0.0</td>\n",
       "      <td>0.0</td>\n",
       "      <td>0.0</td>\n",
       "      <td>0.0</td>\n",
       "      <td>0.0</td>\n",
       "      <td>0.0</td>\n",
       "      <td>0.0</td>\n",
       "      <td>0.0</td>\n",
       "      <td>0.0</td>\n",
       "      <td>0.0</td>\n",
       "      <td>...</td>\n",
       "      <td>0.0</td>\n",
       "      <td>0.0</td>\n",
       "      <td>0.0</td>\n",
       "      <td>0.0</td>\n",
       "      <td>0.0</td>\n",
       "      <td>0.0</td>\n",
       "      <td>0.0</td>\n",
       "      <td>0.0</td>\n",
       "      <td>0.0</td>\n",
       "      <td>0.0</td>\n",
       "    </tr>\n",
       "    <tr>\n",
       "      <th>Sore Ike! Anpanman: Yuuki to Honoo to Christmas</th>\n",
       "      <td>0.0</td>\n",
       "      <td>0.0</td>\n",
       "      <td>0.0</td>\n",
       "      <td>0.0</td>\n",
       "      <td>0.0</td>\n",
       "      <td>0.0</td>\n",
       "      <td>0.0</td>\n",
       "      <td>0.0</td>\n",
       "      <td>0.0</td>\n",
       "      <td>0.0</td>\n",
       "      <td>...</td>\n",
       "      <td>0.0</td>\n",
       "      <td>0.0</td>\n",
       "      <td>0.0</td>\n",
       "      <td>0.0</td>\n",
       "      <td>0.0</td>\n",
       "      <td>0.0</td>\n",
       "      <td>0.0</td>\n",
       "      <td>0.0</td>\n",
       "      <td>0.0</td>\n",
       "      <td>0.0</td>\n",
       "    </tr>\n",
       "    <tr>\n",
       "      <th>Cyborg 009: Call of Justice 1</th>\n",
       "      <td>0.0</td>\n",
       "      <td>0.0</td>\n",
       "      <td>0.0</td>\n",
       "      <td>0.0</td>\n",
       "      <td>0.0</td>\n",
       "      <td>0.0</td>\n",
       "      <td>0.0</td>\n",
       "      <td>0.0</td>\n",
       "      <td>0.0</td>\n",
       "      <td>0.0</td>\n",
       "      <td>...</td>\n",
       "      <td>0.0</td>\n",
       "      <td>0.0</td>\n",
       "      <td>0.0</td>\n",
       "      <td>0.0</td>\n",
       "      <td>0.0</td>\n",
       "      <td>0.0</td>\n",
       "      <td>0.0</td>\n",
       "      <td>0.0</td>\n",
       "      <td>0.0</td>\n",
       "      <td>0.0</td>\n",
       "    </tr>\n",
       "  </tbody>\n",
       "</table>\n",
       "<p>10 rows × 11952 columns</p>\n",
       "</div>"
      ],
      "text/plain": [
       "                                                 rush  coin  irvine  minipato  \\\n",
       "name                                                                            \n",
       "Virtual Star 2000                                 0.0   0.0     0.0       0.0   \n",
       "Dorami-chan: Hello Kyouryuu Kids!!                0.0   0.0     0.0       0.0   \n",
       "Shin Calimero                                     0.0   0.0     0.0       0.0   \n",
       "Mori no Ongakudan                                 0.0   0.0     0.0       0.0   \n",
       "ef: A Tale of Memories. - Recollections           0.0   0.0     0.0       0.0   \n",
       "Change!! Getter Robo: Sekai Saigo no Hi           0.0   0.0     0.0       0.0   \n",
       "Tentoumushi no Otomurai                           0.0   0.0     0.0       0.0   \n",
       "Kiki to Lala no Hakuchouza no Ohimesama           0.0   0.0     0.0       0.0   \n",
       "Sore Ike! Anpanman: Yuuki to Honoo to Christmas   0.0   0.0     0.0       0.0   \n",
       "Cyborg 009: Call of Justice 1                     0.0   0.0     0.0       0.0   \n",
       "\n",
       "                                                 keen  onji  kamasutra  \\\n",
       "name                                                                     \n",
       "Virtual Star 2000                                 0.0   0.0        0.0   \n",
       "Dorami-chan: Hello Kyouryuu Kids!!                0.0   0.0        0.0   \n",
       "Shin Calimero                                     0.0   0.0        0.0   \n",
       "Mori no Ongakudan                                 0.0   0.0        0.0   \n",
       "ef: A Tale of Memories. - Recollections           0.0   0.0        0.0   \n",
       "Change!! Getter Robo: Sekai Saigo no Hi           0.0   0.0        0.0   \n",
       "Tentoumushi no Otomurai                           0.0   0.0        0.0   \n",
       "Kiki to Lala no Hakuchouza no Ohimesama           0.0   0.0        0.0   \n",
       "Sore Ike! Anpanman: Yuuki to Honoo to Christmas   0.0   0.0        0.0   \n",
       "Cyborg 009: Call of Justice 1                     0.0   0.0        0.0   \n",
       "\n",
       "                                                 blaster  excel  psychoarmor  \\\n",
       "name                                                                           \n",
       "Virtual Star 2000                                    0.0    0.0          0.0   \n",
       "Dorami-chan: Hello Kyouryuu Kids!!                   0.0    0.0          0.0   \n",
       "Shin Calimero                                        0.0    0.0          0.0   \n",
       "Mori no Ongakudan                                    0.0    0.0          0.0   \n",
       "ef: A Tale of Memories. - Recollections              0.0    0.0          0.0   \n",
       "Change!! Getter Robo: Sekai Saigo no Hi              0.0    0.0          0.0   \n",
       "Tentoumushi no Otomurai                              0.0    0.0          0.0   \n",
       "Kiki to Lala no Hakuchouza no Ohimesama              0.0    0.0          0.0   \n",
       "Sore Ike! Anpanman: Yuuki to Honoo to Christmas      0.0    0.0          0.0   \n",
       "Cyborg 009: Call of Justice 1                        0.0    0.0          0.0   \n",
       "\n",
       "                                                 ...  fighting  sweetheart  \\\n",
       "name                                             ...                         \n",
       "Virtual Star 2000                                ...       0.0         0.0   \n",
       "Dorami-chan: Hello Kyouryuu Kids!!               ...       0.0         0.0   \n",
       "Shin Calimero                                    ...       0.0         0.0   \n",
       "Mori no Ongakudan                                ...       0.0         0.0   \n",
       "ef: A Tale of Memories. - Recollections          ...       0.0         0.0   \n",
       "Change!! Getter Robo: Sekai Saigo no Hi          ...       0.0         0.0   \n",
       "Tentoumushi no Otomurai                          ...       0.0         0.0   \n",
       "Kiki to Lala no Hakuchouza no Ohimesama          ...       0.0         0.0   \n",
       "Sore Ike! Anpanman: Yuuki to Honoo to Christmas  ...       0.0         0.0   \n",
       "Cyborg 009: Call of Justice 1                    ...       0.0         0.0   \n",
       "\n",
       "                                                 exodus  kokka  hennako  \\\n",
       "name                                                                      \n",
       "Virtual Star 2000                                   0.0    0.0      0.0   \n",
       "Dorami-chan: Hello Kyouryuu Kids!!                  0.0    0.0      0.0   \n",
       "Shin Calimero                                       0.0    0.0      0.0   \n",
       "Mori no Ongakudan                                   0.0    0.0      0.0   \n",
       "ef: A Tale of Memories. - Recollections             0.0    0.0      0.0   \n",
       "Change!! Getter Robo: Sekai Saigo no Hi             0.0    0.0      0.0   \n",
       "Tentoumushi no Otomurai                             0.0    0.0      0.0   \n",
       "Kiki to Lala no Hakuchouza no Ohimesama             0.0    0.0      0.0   \n",
       "Sore Ike! Anpanman: Yuuki to Honoo to Christmas     0.0    0.0      0.0   \n",
       "Cyborg 009: Call of Justice 1                       0.0    0.0      0.0   \n",
       "\n",
       "                                                 akari  aniki  enbanseki  mou  \\\n",
       "name                                                                            \n",
       "Virtual Star 2000                                  0.0    0.0        0.0  0.0   \n",
       "Dorami-chan: Hello Kyouryuu Kids!!                 0.0    0.0        0.0  0.0   \n",
       "Shin Calimero                                      0.0    0.0        0.0  0.0   \n",
       "Mori no Ongakudan                                  0.0    0.0        0.0  0.0   \n",
       "ef: A Tale of Memories. - Recollections            0.0    0.0        0.0  0.0   \n",
       "Change!! Getter Robo: Sekai Saigo no Hi            0.0    0.0        0.0  0.0   \n",
       "Tentoumushi no Otomurai                            0.0    0.0        0.0  0.0   \n",
       "Kiki to Lala no Hakuchouza no Ohimesama            0.0    0.0        0.0  0.0   \n",
       "Sore Ike! Anpanman: Yuuki to Honoo to Christmas    0.0    0.0        0.0  0.0   \n",
       "Cyborg 009: Call of Justice 1                      0.0    0.0        0.0  0.0   \n",
       "\n",
       "                                                 ketsudan  \n",
       "name                                                       \n",
       "Virtual Star 2000                                     0.0  \n",
       "Dorami-chan: Hello Kyouryuu Kids!!                    0.0  \n",
       "Shin Calimero                                         0.0  \n",
       "Mori no Ongakudan                                     0.0  \n",
       "ef: A Tale of Memories. - Recollections               0.0  \n",
       "Change!! Getter Robo: Sekai Saigo no Hi               0.0  \n",
       "Tentoumushi no Otomurai                               0.0  \n",
       "Kiki to Lala no Hakuchouza no Ohimesama               0.0  \n",
       "Sore Ike! Anpanman: Yuuki to Honoo to Christmas       0.0  \n",
       "Cyborg 009: Call of Justice 1                         0.0  \n",
       "\n",
       "[10 rows x 11952 columns]"
      ]
     },
     "execution_count": 34,
     "metadata": {},
     "output_type": "execute_result"
    }
   ],
   "source": [
    "# Membuat dataframe untuk melihat tf-idf matrix\n",
    "pd.DataFrame(\n",
    "    tfidf_matrix.todense(), \n",
    "    columns=tf.get_feature_names_out(),\n",
    "    index=anime_df.name\n",
    ").sample(11952, axis=1).sample(10, axis=0)"
   ]
  },
  {
   "cell_type": "markdown",
   "metadata": {},
   "source": [
    "### Cosine Similarity"
   ]
  },
  {
   "cell_type": "code",
   "execution_count": 35,
   "metadata": {},
   "outputs": [
    {
     "data": {
      "text/plain": [
       "array([[1.        , 0.        , 0.        , ..., 0.034281  , 0.02800732,\n",
       "        0.03361191],\n",
       "       [0.        , 1.        , 0.        , ..., 0.        , 0.        ,\n",
       "        0.        ],\n",
       "       [0.        , 0.        , 1.        , ..., 0.        , 0.        ,\n",
       "        0.        ],\n",
       "       ...,\n",
       "       [0.034281  , 0.        , 0.        , ..., 1.        , 0.81699263,\n",
       "        0.02039521],\n",
       "       [0.02800732, 0.        , 0.        , ..., 0.81699263, 1.        ,\n",
       "        0.01666274],\n",
       "       [0.03361191, 0.        , 0.        , ..., 0.02039521, 0.01666274,\n",
       "        1.        ]])"
      ]
     },
     "execution_count": 35,
     "metadata": {},
     "output_type": "execute_result"
    }
   ],
   "source": [
    "# Menghitung cosine similarity pada matrix tf-idf\n",
    "cosine_sim = cosine_similarity(tfidf_matrix) \n",
    "cosine_sim"
   ]
  },
  {
   "cell_type": "code",
   "execution_count": 36,
   "metadata": {},
   "outputs": [
    {
     "name": "stdout",
     "output_type": "stream",
     "text": [
      "Shape: (12017, 12017)\n"
     ]
    },
    {
     "data": {
      "text/html": [
       "<div>\n",
       "<style scoped>\n",
       "    .dataframe tbody tr th:only-of-type {\n",
       "        vertical-align: middle;\n",
       "    }\n",
       "\n",
       "    .dataframe tbody tr th {\n",
       "        vertical-align: top;\n",
       "    }\n",
       "\n",
       "    .dataframe thead th {\n",
       "        text-align: right;\n",
       "    }\n",
       "</style>\n",
       "<table border=\"1\" class=\"dataframe\">\n",
       "  <thead>\n",
       "    <tr style=\"text-align: right;\">\n",
       "      <th>name</th>\n",
       "      <th>Cinnamon no Parade</th>\n",
       "      <th>15 Bishoujo Hyouryuuki</th>\n",
       "      <th>Renkin San-kyuu Magical? Pokaan</th>\n",
       "      <th>Initial D Extra Stage</th>\n",
       "      <th>Abashiri Ikka</th>\n",
       "    </tr>\n",
       "    <tr>\n",
       "      <th>name</th>\n",
       "      <th></th>\n",
       "      <th></th>\n",
       "      <th></th>\n",
       "      <th></th>\n",
       "      <th></th>\n",
       "    </tr>\n",
       "  </thead>\n",
       "  <tbody>\n",
       "    <tr>\n",
       "      <th>Kaguya-hime: Taketori Monogatari</th>\n",
       "      <td>0.000000</td>\n",
       "      <td>0.0</td>\n",
       "      <td>0.0</td>\n",
       "      <td>0.0</td>\n",
       "      <td>0.0</td>\n",
       "    </tr>\n",
       "    <tr>\n",
       "      <th>Mahou no Yousei Persia</th>\n",
       "      <td>0.035066</td>\n",
       "      <td>0.0</td>\n",
       "      <td>0.0</td>\n",
       "      <td>0.0</td>\n",
       "      <td>0.0</td>\n",
       "    </tr>\n",
       "    <tr>\n",
       "      <th>Tokyo Mew Mew</th>\n",
       "      <td>0.000000</td>\n",
       "      <td>0.0</td>\n",
       "      <td>0.0</td>\n",
       "      <td>0.0</td>\n",
       "      <td>0.0</td>\n",
       "    </tr>\n",
       "    <tr>\n",
       "      <th>Kitty to Mimmy no Happy Birthday</th>\n",
       "      <td>0.027343</td>\n",
       "      <td>0.0</td>\n",
       "      <td>0.0</td>\n",
       "      <td>0.0</td>\n",
       "      <td>0.0</td>\n",
       "    </tr>\n",
       "    <tr>\n",
       "      <th>Tokyo Ghoul √A</th>\n",
       "      <td>0.000000</td>\n",
       "      <td>0.0</td>\n",
       "      <td>0.0</td>\n",
       "      <td>0.0</td>\n",
       "      <td>0.0</td>\n",
       "    </tr>\n",
       "    <tr>\n",
       "      <th>Servamp</th>\n",
       "      <td>0.000000</td>\n",
       "      <td>0.0</td>\n",
       "      <td>0.0</td>\n",
       "      <td>0.0</td>\n",
       "      <td>0.0</td>\n",
       "    </tr>\n",
       "    <tr>\n",
       "      <th>Kareshi Kanojo no Jijou</th>\n",
       "      <td>0.030934</td>\n",
       "      <td>0.0</td>\n",
       "      <td>0.0</td>\n",
       "      <td>0.0</td>\n",
       "      <td>0.0</td>\n",
       "    </tr>\n",
       "    <tr>\n",
       "      <th>Futari wa Precure: Splash☆Star Movie - Tick Tack Kiki Ippatsu!</th>\n",
       "      <td>0.000000</td>\n",
       "      <td>0.0</td>\n",
       "      <td>0.0</td>\n",
       "      <td>0.0</td>\n",
       "      <td>0.0</td>\n",
       "    </tr>\n",
       "    <tr>\n",
       "      <th>Shuugou no Kangae</th>\n",
       "      <td>0.032345</td>\n",
       "      <td>0.0</td>\n",
       "      <td>0.0</td>\n",
       "      <td>0.0</td>\n",
       "      <td>0.0</td>\n",
       "    </tr>\n",
       "    <tr>\n",
       "      <th>Battle Spirits: Shounen Toppa Bashin</th>\n",
       "      <td>0.000000</td>\n",
       "      <td>0.0</td>\n",
       "      <td>0.0</td>\n",
       "      <td>0.0</td>\n",
       "      <td>0.0</td>\n",
       "    </tr>\n",
       "  </tbody>\n",
       "</table>\n",
       "</div>"
      ],
      "text/plain": [
       "name                                                Cinnamon no Parade  \\\n",
       "name                                                                     \n",
       "Kaguya-hime: Taketori Monogatari                              0.000000   \n",
       "Mahou no Yousei Persia                                        0.035066   \n",
       "Tokyo Mew Mew                                                 0.000000   \n",
       "Kitty to Mimmy no Happy Birthday                              0.027343   \n",
       "Tokyo Ghoul √A                                                0.000000   \n",
       "Servamp                                                       0.000000   \n",
       "Kareshi Kanojo no Jijou                                       0.030934   \n",
       "Futari wa Precure: Splash☆Star Movie - Tick Tac...            0.000000   \n",
       "Shuugou no Kangae                                             0.032345   \n",
       "Battle Spirits: Shounen Toppa Bashin                          0.000000   \n",
       "\n",
       "name                                                15 Bishoujo Hyouryuuki  \\\n",
       "name                                                                         \n",
       "Kaguya-hime: Taketori Monogatari                                       0.0   \n",
       "Mahou no Yousei Persia                                                 0.0   \n",
       "Tokyo Mew Mew                                                          0.0   \n",
       "Kitty to Mimmy no Happy Birthday                                       0.0   \n",
       "Tokyo Ghoul √A                                                         0.0   \n",
       "Servamp                                                                0.0   \n",
       "Kareshi Kanojo no Jijou                                                0.0   \n",
       "Futari wa Precure: Splash☆Star Movie - Tick Tac...                     0.0   \n",
       "Shuugou no Kangae                                                      0.0   \n",
       "Battle Spirits: Shounen Toppa Bashin                                   0.0   \n",
       "\n",
       "name                                                Renkin San-kyuu Magical? Pokaan  \\\n",
       "name                                                                                  \n",
       "Kaguya-hime: Taketori Monogatari                                                0.0   \n",
       "Mahou no Yousei Persia                                                          0.0   \n",
       "Tokyo Mew Mew                                                                   0.0   \n",
       "Kitty to Mimmy no Happy Birthday                                                0.0   \n",
       "Tokyo Ghoul √A                                                                  0.0   \n",
       "Servamp                                                                         0.0   \n",
       "Kareshi Kanojo no Jijou                                                         0.0   \n",
       "Futari wa Precure: Splash☆Star Movie - Tick Tac...                              0.0   \n",
       "Shuugou no Kangae                                                               0.0   \n",
       "Battle Spirits: Shounen Toppa Bashin                                            0.0   \n",
       "\n",
       "name                                                Initial D Extra Stage  \\\n",
       "name                                                                        \n",
       "Kaguya-hime: Taketori Monogatari                                      0.0   \n",
       "Mahou no Yousei Persia                                                0.0   \n",
       "Tokyo Mew Mew                                                         0.0   \n",
       "Kitty to Mimmy no Happy Birthday                                      0.0   \n",
       "Tokyo Ghoul √A                                                        0.0   \n",
       "Servamp                                                               0.0   \n",
       "Kareshi Kanojo no Jijou                                               0.0   \n",
       "Futari wa Precure: Splash☆Star Movie - Tick Tac...                    0.0   \n",
       "Shuugou no Kangae                                                     0.0   \n",
       "Battle Spirits: Shounen Toppa Bashin                                  0.0   \n",
       "\n",
       "name                                                Abashiri Ikka  \n",
       "name                                                               \n",
       "Kaguya-hime: Taketori Monogatari                              0.0  \n",
       "Mahou no Yousei Persia                                        0.0  \n",
       "Tokyo Mew Mew                                                 0.0  \n",
       "Kitty to Mimmy no Happy Birthday                              0.0  \n",
       "Tokyo Ghoul √A                                                0.0  \n",
       "Servamp                                                       0.0  \n",
       "Kareshi Kanojo no Jijou                                       0.0  \n",
       "Futari wa Precure: Splash☆Star Movie - Tick Tac...            0.0  \n",
       "Shuugou no Kangae                                             0.0  \n",
       "Battle Spirits: Shounen Toppa Bashin                          0.0  "
      ]
     },
     "execution_count": 36,
     "metadata": {},
     "output_type": "execute_result"
    }
   ],
   "source": [
    "# Membuat dataframe dari variabel cosine_sim dengan baris dan kolom berupa id anime\n",
    "cosine_sim_df = pd.DataFrame(cosine_sim, index=anime_df['name'], columns=anime_df['name'])\n",
    "print('Shape:', cosine_sim_df.shape)\n",
    " \n",
    "# Melihat similarity matrix pada setiap resto\n",
    "cosine_sim_df.sample(5, axis=1).sample(10, axis=0)"
   ]
  },
  {
   "cell_type": "markdown",
   "metadata": {},
   "source": [
    "### Mendapat Rekomendasi"
   ]
  },
  {
   "cell_type": "code",
   "execution_count": 65,
   "metadata": {},
   "outputs": [],
   "source": [
    "def anime_recommendations(name, similarity_data=cosine_sim_df, items=anime_df[['name', 'anime_id','genre']], k=5): \n",
    "    # Mengambil data dengan menggunakan argpartition untuk melakukan partisi secara tidak langsung sepanjang sumbu yang diberikan    \n",
    "    # Dataframe diubah menjadi numpy\n",
    "    # Range(start, stop, step)\n",
    "    index = similarity_data.loc[:,name].to_numpy().argpartition(\n",
    "        range(-1, -k, -1))\n",
    "\n",
    "    closest = similarity_data.columns[index[-1:-(k+2):-1]]\n",
    "    closest = closest.drop(name, errors='ignore')\n",
    " \n",
    "    return pd.DataFrame(closest).merge(items).head(k)"
   ]
  },
  {
   "cell_type": "code",
   "execution_count": 66,
   "metadata": {},
   "outputs": [
    {
     "data": {
      "text/html": [
       "<div>\n",
       "<style scoped>\n",
       "    .dataframe tbody tr th:only-of-type {\n",
       "        vertical-align: middle;\n",
       "    }\n",
       "\n",
       "    .dataframe tbody tr th {\n",
       "        vertical-align: top;\n",
       "    }\n",
       "\n",
       "    .dataframe thead th {\n",
       "        text-align: right;\n",
       "    }\n",
       "</style>\n",
       "<table border=\"1\" class=\"dataframe\">\n",
       "  <thead>\n",
       "    <tr style=\"text-align: right;\">\n",
       "      <th></th>\n",
       "      <th>anime_id</th>\n",
       "      <th>name</th>\n",
       "      <th>genre</th>\n",
       "      <th>type</th>\n",
       "      <th>episodes</th>\n",
       "      <th>rating</th>\n",
       "      <th>members</th>\n",
       "    </tr>\n",
       "  </thead>\n",
       "  <tbody>\n",
       "    <tr>\n",
       "      <th>86</th>\n",
       "      <td>16498</td>\n",
       "      <td>Shingeki no Kyojin</td>\n",
       "      <td>Action, Drama, Fantasy, Shounen, Super Power</td>\n",
       "      <td>TV</td>\n",
       "      <td>25</td>\n",
       "      <td>8.54</td>\n",
       "      <td>896229</td>\n",
       "    </tr>\n",
       "  </tbody>\n",
       "</table>\n",
       "</div>"
      ],
      "text/plain": [
       "    anime_id                name  \\\n",
       "86     16498  Shingeki no Kyojin   \n",
       "\n",
       "                                           genre type episodes  rating  \\\n",
       "86  Action, Drama, Fantasy, Shounen, Super Power   TV       25    8.54   \n",
       "\n",
       "    members  \n",
       "86   896229  "
      ]
     },
     "execution_count": 66,
     "metadata": {},
     "output_type": "execute_result"
    }
   ],
   "source": [
    "anime_df[anime_df.name.eq('Shingeki no Kyojin')]"
   ]
  },
  {
   "cell_type": "code",
   "execution_count": 67,
   "metadata": {},
   "outputs": [
    {
     "data": {
      "text/html": [
       "<div>\n",
       "<style scoped>\n",
       "    .dataframe tbody tr th:only-of-type {\n",
       "        vertical-align: middle;\n",
       "    }\n",
       "\n",
       "    .dataframe tbody tr th {\n",
       "        vertical-align: top;\n",
       "    }\n",
       "\n",
       "    .dataframe thead th {\n",
       "        text-align: right;\n",
       "    }\n",
       "</style>\n",
       "<table border=\"1\" class=\"dataframe\">\n",
       "  <thead>\n",
       "    <tr style=\"text-align: right;\">\n",
       "      <th></th>\n",
       "      <th>name</th>\n",
       "      <th>anime_id</th>\n",
       "      <th>genre</th>\n",
       "    </tr>\n",
       "  </thead>\n",
       "  <tbody>\n",
       "    <tr>\n",
       "      <th>0</th>\n",
       "      <td>Shingeki no Kyojin OVA</td>\n",
       "      <td>18397</td>\n",
       "      <td>Action, Drama, Fantasy, Shounen, Super Power</td>\n",
       "    </tr>\n",
       "    <tr>\n",
       "      <th>1</th>\n",
       "      <td>Shingeki no Kyojin Picture Drama</td>\n",
       "      <td>19391</td>\n",
       "      <td>Comedy, Parody</td>\n",
       "    </tr>\n",
       "    <tr>\n",
       "      <th>2</th>\n",
       "      <td>Shingeki! Kyojin Chuugakkou</td>\n",
       "      <td>31374</td>\n",
       "      <td>Comedy, Parody, School, Shounen</td>\n",
       "    </tr>\n",
       "    <tr>\n",
       "      <th>3</th>\n",
       "      <td>Shingeki no Kyojin: Ano Hi Kara</td>\n",
       "      <td>19285</td>\n",
       "      <td>Action, Drama, Fantasy, Shounen, Super Power</td>\n",
       "    </tr>\n",
       "    <tr>\n",
       "      <th>4</th>\n",
       "      <td>Shingeki no Kyojin: Kuinaki Sentaku</td>\n",
       "      <td>25781</td>\n",
       "      <td>Action, Fantasy, Shoujo, Supernatural</td>\n",
       "    </tr>\n",
       "  </tbody>\n",
       "</table>\n",
       "</div>"
      ],
      "text/plain": [
       "                                  name  anime_id  \\\n",
       "0               Shingeki no Kyojin OVA     18397   \n",
       "1     Shingeki no Kyojin Picture Drama     19391   \n",
       "2          Shingeki! Kyojin Chuugakkou     31374   \n",
       "3      Shingeki no Kyojin: Ano Hi Kara     19285   \n",
       "4  Shingeki no Kyojin: Kuinaki Sentaku     25781   \n",
       "\n",
       "                                          genre  \n",
       "0  Action, Drama, Fantasy, Shounen, Super Power  \n",
       "1                                Comedy, Parody  \n",
       "2               Comedy, Parody, School, Shounen  \n",
       "3  Action, Drama, Fantasy, Shounen, Super Power  \n",
       "4         Action, Fantasy, Shoujo, Supernatural  "
      ]
     },
     "execution_count": 67,
     "metadata": {},
     "output_type": "execute_result"
    }
   ],
   "source": [
    "# Mendapatkan rekomendasi anime yang mirip dengan Shingeki no Kyojin\n",
    "anime_recommendations('Shingeki no Kyojin')"
   ]
  },
  {
   "cell_type": "markdown",
   "metadata": {},
   "source": [
    "### Model RecommederNet"
   ]
  },
  {
   "cell_type": "code",
   "execution_count": 54,
   "metadata": {},
   "outputs": [],
   "source": [
    "class RecommenderNet(tf.keras.Model):\n",
    "    def __init__(self, num_users, num_anime, embedding_size, **kwargs):\n",
    "        super(RecommenderNet, self).__init__(**kwargs)\n",
    "        self.num_users = num_users\n",
    "        self.num_anime = num_anime\n",
    "        self.embedding_size = embedding_size\n",
    "\n",
    "        # Layer embedding untuk pengguna\n",
    "        self.user_embedding = layers.Embedding(\n",
    "            num_users,\n",
    "            embedding_size,\n",
    "            embeddings_initializer='he_normal',\n",
    "            embeddings_regularizer=keras.regularizers.l2(1e-6)\n",
    "        )\n",
    "        self.user_bias = layers.Embedding(num_users, 1)\n",
    "\n",
    "        # Layer embedding untuk anime\n",
    "        self.anime_embedding = layers.Embedding(\n",
    "            num_anime,\n",
    "            embedding_size,\n",
    "            embeddings_initializer='he_normal',\n",
    "            embeddings_regularizer=keras.regularizers.l2(1e-6)\n",
    "        )\n",
    "        self.anime_bias = layers.Embedding(num_anime, 1)\n",
    "\n",
    "    def call(self, inputs):\n",
    "        user_vector = self.user_embedding(inputs[:, 0])\n",
    "        user_bias = self.user_bias(inputs[:, 0])\n",
    "        anime_vector = self.anime_embedding(inputs[:, 1])\n",
    "        anime_bias = self.anime_bias(inputs[:, 1])\n",
    "\n",
    "        # Hitung dot product antara user dan anime embedding\n",
    "        dot_user_anime = tf.tensordot(user_vector, anime_vector, axes=2)\n",
    "\n",
    "        # Tambahkan bias\n",
    "        x = dot_user_anime + user_bias + anime_bias\n",
    "        return tf.nn.sigmoid(x)"
   ]
  },
  {
   "cell_type": "code",
   "execution_count": 68,
   "metadata": {},
   "outputs": [],
   "source": [
    "num_users = rate_df['user_id'].nunique()\n",
    "num_anime = rate_df['anime_id'].nunique()\n",
    "\n",
    "model = RecommenderNet(num_users,num_anime, 100) # inisialisasi model\n",
    " \n",
    "# model compile\n",
    "model.compile(\n",
    "    loss = tf.keras.losses.BinaryCrossentropy(),\n",
    "    optimizer = keras.optimizers.Adam(learning_rate=0.001),\n",
    "    metrics=[tf.keras.metrics.RootMeanSquaredError()]\n",
    ")"
   ]
  },
  {
   "cell_type": "code",
   "execution_count": 74,
   "metadata": {},
   "outputs": [
    {
     "data": {
      "text/html": [
       "<div>\n",
       "<style scoped>\n",
       "    .dataframe tbody tr th:only-of-type {\n",
       "        vertical-align: middle;\n",
       "    }\n",
       "\n",
       "    .dataframe tbody tr th {\n",
       "        vertical-align: top;\n",
       "    }\n",
       "\n",
       "    .dataframe thead th {\n",
       "        text-align: right;\n",
       "    }\n",
       "</style>\n",
       "<table border=\"1\" class=\"dataframe\">\n",
       "  <thead>\n",
       "    <tr style=\"text-align: right;\">\n",
       "      <th></th>\n",
       "      <th>user_id</th>\n",
       "      <th>anime_id</th>\n",
       "      <th>rating</th>\n",
       "    </tr>\n",
       "  </thead>\n",
       "  <tbody>\n",
       "    <tr>\n",
       "      <th>47</th>\n",
       "      <td>1</td>\n",
       "      <td>8074</td>\n",
       "      <td>10</td>\n",
       "    </tr>\n",
       "    <tr>\n",
       "      <th>81</th>\n",
       "      <td>1</td>\n",
       "      <td>11617</td>\n",
       "      <td>10</td>\n",
       "    </tr>\n",
       "    <tr>\n",
       "      <th>83</th>\n",
       "      <td>1</td>\n",
       "      <td>11757</td>\n",
       "      <td>10</td>\n",
       "    </tr>\n",
       "    <tr>\n",
       "      <th>101</th>\n",
       "      <td>1</td>\n",
       "      <td>15451</td>\n",
       "      <td>10</td>\n",
       "    </tr>\n",
       "    <tr>\n",
       "      <th>153</th>\n",
       "      <td>2</td>\n",
       "      <td>11771</td>\n",
       "      <td>10</td>\n",
       "    </tr>\n",
       "    <tr>\n",
       "      <th>...</th>\n",
       "      <td>...</td>\n",
       "      <td>...</td>\n",
       "      <td>...</td>\n",
       "    </tr>\n",
       "    <tr>\n",
       "      <th>7813732</th>\n",
       "      <td>73515</td>\n",
       "      <td>16512</td>\n",
       "      <td>7</td>\n",
       "    </tr>\n",
       "    <tr>\n",
       "      <th>7813733</th>\n",
       "      <td>73515</td>\n",
       "      <td>17187</td>\n",
       "      <td>9</td>\n",
       "    </tr>\n",
       "    <tr>\n",
       "      <th>7813734</th>\n",
       "      <td>73515</td>\n",
       "      <td>22145</td>\n",
       "      <td>10</td>\n",
       "    </tr>\n",
       "    <tr>\n",
       "      <th>7813735</th>\n",
       "      <td>73516</td>\n",
       "      <td>790</td>\n",
       "      <td>9</td>\n",
       "    </tr>\n",
       "    <tr>\n",
       "      <th>7813736</th>\n",
       "      <td>73516</td>\n",
       "      <td>8074</td>\n",
       "      <td>9</td>\n",
       "    </tr>\n",
       "  </tbody>\n",
       "</table>\n",
       "<p>6337234 rows × 3 columns</p>\n",
       "</div>"
      ],
      "text/plain": [
       "         user_id  anime_id  rating\n",
       "47             1      8074      10\n",
       "81             1     11617      10\n",
       "83             1     11757      10\n",
       "101            1     15451      10\n",
       "153            2     11771      10\n",
       "...          ...       ...     ...\n",
       "7813732    73515     16512       7\n",
       "7813733    73515     17187       9\n",
       "7813734    73515     22145      10\n",
       "7813735    73516       790       9\n",
       "7813736    73516      8074       9\n",
       "\n",
       "[6337234 rows x 3 columns]"
      ]
     },
     "execution_count": 74,
     "metadata": {},
     "output_type": "execute_result"
    }
   ],
   "source": [
    "rate_df"
   ]
  },
  {
   "cell_type": "code",
   "execution_count": 76,
   "metadata": {},
   "outputs": [],
   "source": [
    "x = rate_df.drop(['user_id'],axis=1)\n",
    "y = rate_df['user_id']"
   ]
  },
  {
   "cell_type": "code",
   "execution_count": 81,
   "metadata": {},
   "outputs": [
    {
     "name": "stdout",
     "output_type": "stream",
     "text": [
      "47             1\n",
      "81             1\n",
      "83             1\n",
      "101            1\n",
      "153            2\n",
      "           ...  \n",
      "7813732    73515\n",
      "7813733    73515\n",
      "7813734    73515\n",
      "7813735    73516\n",
      "7813736    73516\n",
      "Name: user_id, Length: 6337234, dtype: int64\n"
     ]
    }
   ],
   "source": [
    "print(y)"
   ]
  },
  {
   "cell_type": "code",
   "execution_count": 89,
   "metadata": {},
   "outputs": [
    {
     "data": {
      "text/plain": [
       "633"
      ]
     },
     "execution_count": 89,
     "metadata": {},
     "output_type": "execute_result"
    }
   ],
   "source": [
    "x_train = x[:int(total_dataset*0.0001)]\n",
    "len(x_train)"
   ]
  },
  {
   "cell_type": "code",
   "execution_count": 93,
   "metadata": {},
   "outputs": [
    {
     "name": "stdout",
     "output_type": "stream",
     "text": [
      "Epoch 1/20\n",
      "80/80 [==============================] - 10s 129ms/step - loss: -71008.3750 - root_mean_squared_error: 4.0699 - val_loss: -69719.3203 - val_root_mean_squared_error: 4.0699\n",
      "Epoch 2/20\n",
      "80/80 [==============================] - 9s 118ms/step - loss: -71120.0078 - root_mean_squared_error: 4.0699 - val_loss: -69719.3672 - val_root_mean_squared_error: 4.0699\n",
      "Epoch 3/20\n",
      "80/80 [==============================] - 9s 111ms/step - loss: -71021.5312 - root_mean_squared_error: 4.0699 - val_loss: -69719.4219 - val_root_mean_squared_error: 4.0699\n",
      "Epoch 4/20\n",
      "80/80 [==============================] - 9s 115ms/step - loss: -71037.8516 - root_mean_squared_error: 4.0699 - val_loss: -69719.4688 - val_root_mean_squared_error: 4.0699\n",
      "Epoch 5/20\n",
      "80/80 [==============================] - 9s 111ms/step - loss: -71086.3828 - root_mean_squared_error: 4.0699 - val_loss: -69719.5391 - val_root_mean_squared_error: 4.0699\n",
      "Epoch 6/20\n",
      "80/80 [==============================] - 9s 111ms/step - loss: -71237.5859 - root_mean_squared_error: 4.0699 - val_loss: -69719.5625 - val_root_mean_squared_error: 4.0699\n",
      "Epoch 7/20\n",
      "80/80 [==============================] - 9s 113ms/step - loss: -70970.2656 - root_mean_squared_error: 4.0699 - val_loss: -69719.6328 - val_root_mean_squared_error: 4.0699\n",
      "Epoch 8/20\n",
      "80/80 [==============================] - 9s 114ms/step - loss: -71206.6484 - root_mean_squared_error: 4.0699 - val_loss: -69719.6875 - val_root_mean_squared_error: 4.0699\n",
      "Epoch 9/20\n",
      "80/80 [==============================] - 9s 109ms/step - loss: -71168.2344 - root_mean_squared_error: 4.0699 - val_loss: -69719.7500 - val_root_mean_squared_error: 4.0699\n",
      "Epoch 10/20\n",
      "80/80 [==============================] - 9s 117ms/step - loss: -70865.3359 - root_mean_squared_error: 4.0699 - val_loss: -69719.8203 - val_root_mean_squared_error: 4.0699\n",
      "Epoch 11/20\n",
      "80/80 [==============================] - 9s 112ms/step - loss: -70986.6719 - root_mean_squared_error: 4.0699 - val_loss: -69719.9141 - val_root_mean_squared_error: 4.0699\n",
      "Epoch 12/20\n",
      "80/80 [==============================] - 9s 109ms/step - loss: -71001.2891 - root_mean_squared_error: 4.0699 - val_loss: -69719.9688 - val_root_mean_squared_error: 4.0699\n",
      "Epoch 13/20\n",
      "80/80 [==============================] - 9s 107ms/step - loss: -71235.8516 - root_mean_squared_error: 4.0699 - val_loss: -69720.0469 - val_root_mean_squared_error: 4.0699\n",
      "Epoch 14/20\n",
      "80/80 [==============================] - 9s 109ms/step - loss: -71181.7891 - root_mean_squared_error: 4.0699 - val_loss: -69720.1484 - val_root_mean_squared_error: 4.0699\n",
      "Epoch 15/20\n",
      "80/80 [==============================] - 9s 110ms/step - loss: -71009.0312 - root_mean_squared_error: 4.0699 - val_loss: -69720.2188 - val_root_mean_squared_error: 4.0699\n",
      "Epoch 16/20\n",
      "80/80 [==============================] - 9s 111ms/step - loss: -70890.9609 - root_mean_squared_error: 4.0699 - val_loss: -69720.3125 - val_root_mean_squared_error: 4.0699\n",
      "Epoch 17/20\n",
      "80/80 [==============================] - 9s 114ms/step - loss: -71183.2891 - root_mean_squared_error: 4.0699 - val_loss: -69720.4141 - val_root_mean_squared_error: 4.0699\n",
      "Epoch 18/20\n",
      "80/80 [==============================] - 9s 117ms/step - loss: -70759.9062 - root_mean_squared_error: 4.0699 - val_loss: -69720.5078 - val_root_mean_squared_error: 4.0699\n",
      "Epoch 19/20\n",
      "80/80 [==============================] - 9s 109ms/step - loss: -71448.9141 - root_mean_squared_error: 4.0699 - val_loss: -69720.5938 - val_root_mean_squared_error: 4.0699\n",
      "Epoch 20/20\n",
      "80/80 [==============================] - 9s 109ms/step - loss: -71111.7812 - root_mean_squared_error: 4.0699 - val_loss: -69720.7266 - val_root_mean_squared_error: 4.0699\n"
     ]
    }
   ],
   "source": [
    "total_dataset = len(rate_df)\n",
    "\n",
    "# x_train = x[:int(total_dataset*0.90)]\n",
    "# y_train = y[:int(total_dataset*0.90)]\n",
    "x_train = x[:int(total_dataset*0.0001)]\n",
    "y_train = y[:int(total_dataset*0.0001)]\n",
    "\n",
    "# Memulai training\n",
    "history = model.fit(\n",
    "    x = x_train,\n",
    "    y = y_train,\n",
    "    batch_size = 8,\n",
    "    epochs = 20,\n",
    "    validation_data = (x_train, y_train)\n",
    ")"
   ]
  },
  {
   "cell_type": "code",
   "execution_count": 94,
   "metadata": {},
   "outputs": [
    {
     "data": {
      "image/png": "[encoded data removed]",
      "text/plain": [
       "<Figure size 640x480 with 1 Axes>"
      ]
     },
     "metadata": {},
     "output_type": "display_data"
    }
   ],
   "source": [
    "plt.plot(history.history['root_mean_squared_error'])\n",
    "plt.plot(history.history['val_root_mean_squared_error'])\n",
    "plt.title('model_metrics')\n",
    "plt.ylabel('root_mean_squared_error')\n",
    "plt.xlabel('epoch')\n",
    "plt.legend(['train', 'test'], loc='upper left')\n",
    "plt.show()"
   ]
  },
  {
   "cell_type": "code",
   "execution_count": 95,
   "metadata": {},
   "outputs": [
    {
     "data": {
      "text/plain": [
       "777248      7239\n",
       "777249      7239\n",
       "777250      7239\n",
       "777251      7239\n",
       "777252      7239\n",
       "           ...  \n",
       "7813732    73515\n",
       "7813733    73515\n",
       "7813734    73515\n",
       "7813735    73516\n",
       "7813736    73516\n",
       "Name: user_id, Length: 5703511, dtype: int64"
      ]
     },
     "execution_count": 95,
     "metadata": {},
     "output_type": "execute_result"
    }
   ],
   "source": [
    "df = rate_df.user_id[int(total_dataset*0.10):total_dataset]\n",
    "df"
   ]
  },
  {
   "cell_type": "code",
   "execution_count": 96,
   "metadata": {},
   "outputs": [],
   "source": [
    " # Mengambil sample user\n",
    "user = df.sample(1).iloc[0]"
   ]
  },
  {
   "cell_type": "code",
   "execution_count": null,
   "metadata": {},
   "outputs": [],
   "source": []
  },
  {
   "cell_type": "code",
   "execution_count": null,
   "metadata": {},
   "outputs": [],
   "source": [
    "ratings = model.predict(user).flatten()\n",
    "print(ratings)\n",
    " \n",
    "top_ratings_indices = ratings.argsort()[-10:][::-1]\n",
    "recommended_resto_ids = [\n",
    "    resto_encoded_to_resto.get(resto_not_visited[x][0]) for x in top_ratings_indices\n",
    "]\n",
    "\n"
   ]
  },
  {
   "cell_type": "markdown",
   "metadata": {},
   "source": [
    "## Conclusion"
   ]
  },
  {
   "cell_type": "markdown",
   "metadata": {},
   "source": [
    "Sebagai contoh, hasil di atas adalah rekomendasi untuk user dengan id U1071. Dari output tersebut, kita dapat membandingkan antara Resto with high ratings from user dan Top 10 resto recommendation untuk user. \n",
    "\n",
    "Perhatikanlah, beberapa restoran rekomendasi menyediakan kategori masakan (cuisine) yang sesuai dengan rating user. Kita memperoleh 4 rekomendasi resto dengan kategori ‘cuisine’ Mexican, 2 rekomendasi resto dengan kategori bar, dan 1 resto dengan kategori International."
   ]
  }
 ],
 "metadata": {
  "kernelspec": {
   "display_name": "Python 3 (ipykernel)",
   "language": "python",
   "name": "python3"
  },
  "language_info": {
   "codemirror_mode": {
    "name": "ipython",
    "version": 3
   },
   "file_extension": ".py",
   "mimetype": "text/x-python",
   "name": "python",
   "nbconvert_exporter": "python",
   "pygments_lexer": "ipython3",
   "version": "3.8.10"
  }
 },
 "nbformat": 4,
 "nbformat_minor": 2
}
